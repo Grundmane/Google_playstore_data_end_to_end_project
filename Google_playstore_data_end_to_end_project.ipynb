{
  "nbformat": 4,
  "nbformat_minor": 0,
  "metadata": {
    "colab": {
      "provenance": [],
      "toc_visible": true,
      "authorship_tag": "ABX9TyNoBQuFlHtJtgXflqkXsrfJ",
      "include_colab_link": true
    },
    "kernelspec": {
      "name": "python3",
      "display_name": "Python 3"
    },
    "language_info": {
      "name": "python"
    }
  },
  "cells": [
    {
      "cell_type": "markdown",
      "metadata": {
        "id": "view-in-github",
        "colab_type": "text"
      },
      "source": [
        "<a href=\"https://colab.research.google.com/github/Grundmane/Google_playstore_data_end_to_end_project/blob/main/Google_playstore_data_end_to_end_project.ipynb\" target=\"_parent\"><img src=\"https://colab.research.google.com/assets/colab-badge.svg\" alt=\"Open In Colab\"/></a>"
      ]
    },
    {
      "cell_type": "markdown",
      "source": [
        "Google playstore data\n",
        "\n",
        "AGENDA\n",
        "\n",
        "We have google playstore dataset containing info of different apps ionstalled rating, versions and other details and we are going to do analysis based on the data we have\n",
        "\n",
        "1) find out 10 top reviews given to the apps\n",
        "\n",
        "2) Top 100 installs apps and distribution of type free-paid\n",
        "\n",
        "3) Category wise distribution of installed apps\n",
        "\n",
        "4) Top paid apps\n"
      ],
      "metadata": {
        "id": "CP-EDqDJtKH6"
      }
    },
    {
      "cell_type": "code",
      "source": [
        "!pip install pyspark"
      ],
      "metadata": {
        "colab": {
          "base_uri": "https://localhost:8080/"
        },
        "id": "CO3c3xTIugQD",
        "outputId": "c62ca3c9-c83b-46b3-c0d9-78ad12f26225"
      },
      "execution_count": null,
      "outputs": [
        {
          "output_type": "stream",
          "name": "stdout",
          "text": [
            "Requirement already satisfied: pyspark in /usr/local/lib/python3.10/dist-packages (3.5.0)\n",
            "Requirement already satisfied: py4j==0.10.9.7 in /usr/local/lib/python3.10/dist-packages (from pyspark) (0.10.9.7)\n"
          ]
        }
      ]
    },
    {
      "cell_type": "code",
      "source": [
        "import pyspark\n",
        "from pyspark.sql import SparkSession\n",
        "from pyspark.sql.types import StructType, StructField, StringType, IntegerType\n",
        "from pyspark.sql.functions import *"
      ],
      "metadata": {
        "id": "69-1ykM1trgf"
      },
      "execution_count": null,
      "outputs": []
    },
    {
      "cell_type": "code",
      "source": [
        "spark = SparkSession.builder.appName('PlayStoreProject').getOrCreate()"
      ],
      "metadata": {
        "id": "ZJW7dMtlvqio"
      },
      "execution_count": null,
      "outputs": []
    },
    {
      "cell_type": "markdown",
      "source": [
        "Create data frame"
      ],
      "metadata": {
        "id": "4FbJZOwSvNcu"
      }
    },
    {
      "cell_type": "code",
      "source": [
        "from html import escape\n",
        "df = spark.read.load('googlestore.xlsx - Sheet1.csv',format='csv',header=True,inferSchema=True)"
      ],
      "metadata": {
        "id": "K7_YCjPsvHZU"
      },
      "execution_count": null,
      "outputs": []
    },
    {
      "cell_type": "code",
      "source": [
        "df.count()"
      ],
      "metadata": {
        "colab": {
          "base_uri": "https://localhost:8080/"
        },
        "id": "nFe5SdJIwPmd",
        "outputId": "4b703309-4734-4e18-c4fc-02f502f6deb0"
      },
      "execution_count": null,
      "outputs": [
        {
          "output_type": "execute_result",
          "data": {
            "text/plain": [
              "10841"
            ]
          },
          "metadata": {},
          "execution_count": 69
        }
      ]
    },
    {
      "cell_type": "code",
      "source": [
        "df.show(1)"
      ],
      "metadata": {
        "colab": {
          "base_uri": "https://localhost:8080/"
        },
        "id": "iG0tFU82wTeX",
        "outputId": "58263483-2b85-48ac-de10-a93798293c4e"
      },
      "execution_count": null,
      "outputs": [
        {
          "output_type": "stream",
          "name": "stdout",
          "text": [
            "+--------------------+--------------+------+-------+--------+----+-----+------------+\n",
            "|                 App|      Category|Rating|Reviews|Installs|Type|Price|      Genres|\n",
            "+--------------------+--------------+------+-------+--------+----+-----+------------+\n",
            "|Photo Editor & Ca...|ART_AND_DESIGN|   4.1|    159|   10000|Free|    0|Art & Design|\n",
            "+--------------------+--------------+------+-------+--------+----+-----+------------+\n",
            "only showing top 1 row\n",
            "\n"
          ]
        }
      ]
    },
    {
      "cell_type": "markdown",
      "source": [
        "Check schema"
      ],
      "metadata": {
        "id": "s8xgzR-2wcOc"
      }
    },
    {
      "cell_type": "code",
      "source": [
        "df.printSchema()"
      ],
      "metadata": {
        "colab": {
          "base_uri": "https://localhost:8080/"
        },
        "id": "OjwGMi7YwTgv",
        "outputId": "10512c6d-52ec-4211-d2d4-7c09ffb6b25d"
      },
      "execution_count": null,
      "outputs": [
        {
          "output_type": "stream",
          "name": "stdout",
          "text": [
            "root\n",
            " |-- App: string (nullable = true)\n",
            " |-- Category: string (nullable = true)\n",
            " |-- Rating: string (nullable = true)\n",
            " |-- Reviews: string (nullable = true)\n",
            " |-- Size: string (nullable = true)\n",
            " |-- Installs: string (nullable = true)\n",
            " |-- Type: string (nullable = true)\n",
            " |-- Price: string (nullable = true)\n",
            " |-- Content Rating: string (nullable = true)\n",
            " |-- Genres: string (nullable = true)\n",
            " |-- Last Updated: string (nullable = true)\n",
            " |-- Current Ver: string (nullable = true)\n",
            " |-- Android Ver: string (nullable = true)\n",
            "\n"
          ]
        }
      ]
    },
    {
      "cell_type": "markdown",
      "source": [
        "data cleaning step"
      ],
      "metadata": {
        "id": "XZsrVqU9wqlo"
      }
    },
    {
      "cell_type": "code",
      "source": [
        "df=df.drop(\"Size\",\"Content Rating\",\"Last Updated\",\"Android Ver\",\"Current Ver\")"
      ],
      "metadata": {
        "id": "HQ7nSZXGwhqT"
      },
      "execution_count": null,
      "outputs": []
    },
    {
      "cell_type": "code",
      "source": [
        "df.show(3)"
      ],
      "metadata": {
        "colab": {
          "base_uri": "https://localhost:8080/"
        },
        "id": "fayEsiXEwhxH",
        "outputId": "48da99c1-4608-42dd-b03a-5095b7c4e751"
      },
      "execution_count": null,
      "outputs": [
        {
          "output_type": "stream",
          "name": "stdout",
          "text": [
            "+--------------------+--------------+------+-------+----------+----+-----+--------------------+\n",
            "|                 App|      Category|Rating|Reviews|  Installs|Type|Price|              Genres|\n",
            "+--------------------+--------------+------+-------+----------+----+-----+--------------------+\n",
            "|Photo Editor & Ca...|ART_AND_DESIGN|   4.1|    159|   10,000+|Free|    0|        Art & Design|\n",
            "| Coloring book moana|ART_AND_DESIGN|   3.9|    967|  500,000+|Free|    0|Art & Design;Pret...|\n",
            "|U Launcher Lite â...|ART_AND_DESIGN|   4.7|  87510|5,000,000+|Free|    0|        Art & Design|\n",
            "+--------------------+--------------+------+-------+----------+----+-----+--------------------+\n",
            "only showing top 3 rows\n",
            "\n"
          ]
        }
      ]
    },
    {
      "cell_type": "code",
      "source": [
        "df.printSchema()"
      ],
      "metadata": {
        "colab": {
          "base_uri": "https://localhost:8080/"
        },
        "id": "A3YwBGinwh3S",
        "outputId": "0f924a93-c99b-4421-fea7-0538a3f81dc9"
      },
      "execution_count": null,
      "outputs": [
        {
          "output_type": "stream",
          "name": "stdout",
          "text": [
            "root\n",
            " |-- App: string (nullable = true)\n",
            " |-- Category: string (nullable = true)\n",
            " |-- Rating: string (nullable = true)\n",
            " |-- Reviews: string (nullable = true)\n",
            " |-- Installs: string (nullable = true)\n",
            " |-- Type: string (nullable = true)\n",
            " |-- Price: string (nullable = true)\n",
            " |-- Genres: string (nullable = true)\n",
            "\n"
          ]
        }
      ]
    },
    {
      "cell_type": "code",
      "source": [
        "from pyspark.sql.functions import regexp_replace, col"
      ],
      "metadata": {
        "id": "eH8_MYXtyMyW"
      },
      "execution_count": null,
      "outputs": []
    },
    {
      "cell_type": "code",
      "source": [
        "df=df.withColumn(\"Reviews\", col(\"Reviews\").cast(IntegerType()))\\\n",
        ".withColumn(\"Installs\", regexp_replace(col(\"Installs\"), \"[^0-9]\", \"\"))\\\n",
        ".withColumn(\"Installs\",col(\"Installs\").cast(IntegerType()))\\\n",
        ".withColumn(\"Price\", regexp_replace(col(\"Price\"), \"[$]\",\"\"))\\\n",
        ".withColumn(\"Price\",col(\"Price\").cast(IntegerType()))"
      ],
      "metadata": {
        "id": "jnKoDC2wwh-l"
      },
      "execution_count": null,
      "outputs": []
    },
    {
      "cell_type": "code",
      "source": [
        "df.show(3)"
      ],
      "metadata": {
        "colab": {
          "base_uri": "https://localhost:8080/"
        },
        "id": "c4nyNlGkwiFW",
        "outputId": "877313a5-40fd-4cbb-f9fd-eecc861c29dc"
      },
      "execution_count": null,
      "outputs": [
        {
          "output_type": "stream",
          "name": "stdout",
          "text": [
            "+--------------------+--------------+------+-------+--------+----+-----+--------------------+\n",
            "|                 App|      Category|Rating|Reviews|Installs|Type|Price|              Genres|\n",
            "+--------------------+--------------+------+-------+--------+----+-----+--------------------+\n",
            "|Photo Editor & Ca...|ART_AND_DESIGN|   4.1|    159|   10000|Free|    0|        Art & Design|\n",
            "| Coloring book moana|ART_AND_DESIGN|   3.9|    967|  500000|Free|    0|Art & Design;Pret...|\n",
            "|U Launcher Lite â...|ART_AND_DESIGN|   4.7|  87510| 5000000|Free|    0|        Art & Design|\n",
            "+--------------------+--------------+------+-------+--------+----+-----+--------------------+\n",
            "only showing top 3 rows\n",
            "\n"
          ]
        }
      ]
    },
    {
      "cell_type": "code",
      "source": [
        "df.createOrReplaceTempView(\"PlayStoreProject\")"
      ],
      "metadata": {
        "id": "glV0E0zDwixc"
      },
      "execution_count": null,
      "outputs": []
    },
    {
      "cell_type": "code",
      "source": [
        "PlayStoreSelect = spark.sql(\"SELECT * FROM PlayStoreProject\")\n",
        "PlayStoreSelect.show()"
      ],
      "metadata": {
        "colab": {
          "base_uri": "https://localhost:8080/"
        },
        "id": "VKgLKC2swiza",
        "outputId": "746428a6-20da-4213-ac27-66cbb3884214"
      },
      "execution_count": null,
      "outputs": [
        {
          "output_type": "stream",
          "name": "stdout",
          "text": [
            "+--------------------+--------------+------+-------+--------+----+-----+--------------------+\n",
            "|                 App|      Category|Rating|Reviews|Installs|Type|Price|              Genres|\n",
            "+--------------------+--------------+------+-------+--------+----+-----+--------------------+\n",
            "|Photo Editor & Ca...|ART_AND_DESIGN|   4.1|    159|   10000|Free|    0|        Art & Design|\n",
            "| Coloring book moana|ART_AND_DESIGN|   3.9|    967|  500000|Free|    0|Art & Design;Pret...|\n",
            "|U Launcher Lite â...|ART_AND_DESIGN|   4.7|  87510| 5000000|Free|    0|        Art & Design|\n",
            "|Sketch - Draw & P...|ART_AND_DESIGN|   4.5| 215644|50000000|Free|    0|        Art & Design|\n",
            "|Pixel Draw - Numb...|ART_AND_DESIGN|   4.3|    967|  100000|Free|    0|Art & Design;Crea...|\n",
            "|Paper flowers ins...|ART_AND_DESIGN|   4.4|    167|   50000|Free|    0|        Art & Design|\n",
            "|Smoke Effect Phot...|ART_AND_DESIGN|   3.8|    178|   50000|Free|    0|        Art & Design|\n",
            "|    Infinite Painter|ART_AND_DESIGN|   4.1|  36815| 1000000|Free|    0|        Art & Design|\n",
            "|Garden Coloring Book|ART_AND_DESIGN|   4.4|  13791| 1000000|Free|    0|        Art & Design|\n",
            "|Kids Paint Free -...|ART_AND_DESIGN|   4.7|    121|   10000|Free|    0|Art & Design;Crea...|\n",
            "|Text on Photo - F...|ART_AND_DESIGN|   4.4|  13880| 1000000|Free|    0|        Art & Design|\n",
            "|Name Art Photo Ed...|ART_AND_DESIGN|   4.4|   8788| 1000000|Free|    0|        Art & Design|\n",
            "|Tattoo Name On My...|ART_AND_DESIGN|   4.2|  44829|10000000|Free|    0|        Art & Design|\n",
            "|Mandala Coloring ...|ART_AND_DESIGN|   4.6|   4326|  100000|Free|    0|        Art & Design|\n",
            "|3D Color Pixel by...|ART_AND_DESIGN|   4.4|   1518|  100000|Free|    0|        Art & Design|\n",
            "|Learn To Draw Kaw...|ART_AND_DESIGN|   3.2|     55|    5000|Free|    0|        Art & Design|\n",
            "|Photo Designer - ...|ART_AND_DESIGN|   4.7|   3632|  500000|Free|    0|        Art & Design|\n",
            "|350 Diy Room Deco...|ART_AND_DESIGN|   4.5|     27|   10000|Free|    0|        Art & Design|\n",
            "|FlipaClip - Carto...|ART_AND_DESIGN|   4.3| 194216| 5000000|Free|    0|        Art & Design|\n",
            "|        ibis Paint X|ART_AND_DESIGN|   4.6| 224399|10000000|Free|    0|        Art & Design|\n",
            "+--------------------+--------------+------+-------+--------+----+-----+--------------------+\n",
            "only showing top 20 rows\n",
            "\n"
          ]
        }
      ]
    },
    {
      "cell_type": "markdown",
      "source": [
        "1) top reviews given to the apps"
      ],
      "metadata": {
        "id": "mWHZBsPJ3sMr"
      }
    },
    {
      "cell_type": "code",
      "source": [
        "top_reviews = spark.sql(\"select App,sum(Reviews) from PlayStoreProject group by 1 order by 2 desc\")"
      ],
      "metadata": {
        "id": "kbRFHYGXwi1m"
      },
      "execution_count": null,
      "outputs": []
    },
    {
      "cell_type": "code",
      "source": [
        "top_reviews.show(10)"
      ],
      "metadata": {
        "colab": {
          "base_uri": "https://localhost:8080/"
        },
        "id": "pmY__zpYwi3o",
        "outputId": "c0884c49-34b8-4cef-c2e7-273945fefbf1"
      },
      "execution_count": null,
      "outputs": [
        {
          "output_type": "stream",
          "name": "stdout",
          "text": [
            "+--------------------+------------+\n",
            "|                 App|sum(Reviews)|\n",
            "+--------------------+------------+\n",
            "|           Instagram|   266241989|\n",
            "|  WhatsApp Messenger|   207348304|\n",
            "|      Clash of Clans|   179558781|\n",
            "|Messenger â€“ Tex...|   169932272|\n",
            "|      Subway Surfers|   166331958|\n",
            "|    Candy Crush Saga|   156993136|\n",
            "|            Facebook|   156286514|\n",
            "|         8 Ball Pool|    99386198|\n",
            "|        Clash Royale|    92530298|\n",
            "|            Snapchat|    68045010|\n",
            "+--------------------+------------+\n",
            "only showing top 10 rows\n",
            "\n"
          ]
        }
      ]
    },
    {
      "cell_type": "markdown",
      "source": [
        "Top 10 installed"
      ],
      "metadata": {
        "id": "Z9GKF8XF4m8O"
      }
    },
    {
      "cell_type": "code",
      "source": [
        "top_installed = spark.sql(\"select App,Type,sum(Installs) from PlayStoreProject group by 1,2 order by 3 desc\")\n",
        "top_installed.show(10)"
      ],
      "metadata": {
        "colab": {
          "base_uri": "https://localhost:8080/"
        },
        "id": "rG2vdS1Twi_5",
        "outputId": "13a14ba2-8587-4059-80dd-7ccf2c9f9a76"
      },
      "execution_count": null,
      "outputs": [
        {
          "output_type": "stream",
          "name": "stdout",
          "text": [
            "+--------------------+----+-------------+\n",
            "|                 App|Type|sum(Installs)|\n",
            "+--------------------+----+-------------+\n",
            "|      Subway Surfers|Free|   6000000000|\n",
            "|           Instagram|Free|   4000000000|\n",
            "|        Google Drive|Free|   4000000000|\n",
            "|            Hangouts|Free|   4000000000|\n",
            "|       Google Photos|Free|   4000000000|\n",
            "|         Google News|Free|   4000000000|\n",
            "|    Candy Crush Saga|Free|   3500000000|\n",
            "|Messenger â€“ Tex...|Free|   3000000000|\n",
            "|  WhatsApp Messenger|Free|   3000000000|\n",
            "|               Gmail|Free|   3000000000|\n",
            "+--------------------+----+-------------+\n",
            "only showing top 10 rows\n",
            "\n"
          ]
        }
      ]
    },
    {
      "cell_type": "markdown",
      "source": [
        "Category wise distribution of installed apps"
      ],
      "metadata": {
        "id": "CRrjCas65Of7"
      }
    },
    {
      "cell_type": "code",
      "source": [
        "category_dist_installed = spark.sql(\"select Category,sum(Installs) from PlayStoreProject group by 1 order by 2 desc\")\n",
        "category_dist_installed.show()"
      ],
      "metadata": {
        "colab": {
          "base_uri": "https://localhost:8080/"
        },
        "id": "G9--cj8nwTkX",
        "outputId": "523e8b3b-0c68-41be-cbb2-d9781a5c1042"
      },
      "execution_count": null,
      "outputs": [
        {
          "output_type": "stream",
          "name": "stdout",
          "text": [
            "+-------------------+-------------+\n",
            "|           Category|sum(Installs)|\n",
            "+-------------------+-------------+\n",
            "|               GAME|  35086024415|\n",
            "|      COMMUNICATION|  32647276251|\n",
            "|       PRODUCTIVITY|  14176091369|\n",
            "|             SOCIAL|  14069867902|\n",
            "|              TOOLS|  11452771915|\n",
            "|             FAMILY|  10258263505|\n",
            "|        PHOTOGRAPHY|  10088247655|\n",
            "| NEWS_AND_MAGAZINES|   7496317760|\n",
            "|   TRAVEL_AND_LOCAL|   6868887146|\n",
            "|      VIDEO_PLAYERS|   6222002720|\n",
            "|           SHOPPING|   3247848785|\n",
            "|      ENTERTAINMENT|   2869160000|\n",
            "|    PERSONALIZATION|   2325494782|\n",
            "|BOOKS_AND_REFERENCE|   1921469576|\n",
            "|             SPORTS|   1751174498|\n",
            "| HEALTH_AND_FITNESS|   1582072512|\n",
            "|           BUSINESS|   1001914865|\n",
            "|            FINANCE|    876648734|\n",
            "|          EDUCATION|    871452000|\n",
            "|MAPS_AND_NAVIGATION|    719281890|\n",
            "+-------------------+-------------+\n",
            "only showing top 20 rows\n",
            "\n"
          ]
        }
      ]
    },
    {
      "cell_type": "markdown",
      "source": [
        "Top paid apps"
      ],
      "metadata": {
        "id": "BBw9sOWt5k2w"
      }
    },
    {
      "cell_type": "code",
      "source": [
        "top_paid_app = spark.sql(\"SELECT App, SUM(Installs) AS TotalInstalls FROM PlayStoreProject WHERE Type='Paid' GROUP BY 1 ORDER BY TotalInstalls DESC\")\n",
        "top_paid_app.show(10)"
      ],
      "metadata": {
        "colab": {
          "base_uri": "https://localhost:8080/"
        },
        "id": "8DiolHb-40HA",
        "outputId": "62d85cff-a12b-40d1-9111-28e56195788f"
      },
      "execution_count": null,
      "outputs": [
        {
          "output_type": "stream",
          "name": "stdout",
          "text": [
            "+--------------------+-------------+\n",
            "|                 App|TotalInstalls|\n",
            "+--------------------+-------------+\n",
            "|           Minecraft|     20000000|\n",
            "|       Hitman Sniper|     10000000|\n",
            "| Facetune - For Free|      3000000|\n",
            "|Beautiful Widgets...|      2000000|\n",
            "|          HD Widgets|      2000000|\n",
            "|   Cut the Rope GOLD|      1000000|\n",
            "|          True Skate|      1000000|\n",
            "|League of Stickma...|      1000000|\n",
            "|Infinity Dungeon VIP|      1000000|\n",
            "|Five Nights at Fr...|      1000000|\n",
            "+--------------------+-------------+\n",
            "only showing top 10 rows\n",
            "\n"
          ]
        }
      ]
    },
    {
      "cell_type": "markdown",
      "source": [
        "Top paid rating apps"
      ],
      "metadata": {
        "id": "glh2nzLw6DM-"
      }
    },
    {
      "cell_type": "code",
      "source": [],
      "metadata": {
        "id": "JBpRLL0g40PB"
      },
      "execution_count": null,
      "outputs": []
    },
    {
      "cell_type": "code",
      "source": [],
      "metadata": {
        "id": "BWhbktKh40RA"
      },
      "execution_count": null,
      "outputs": []
    },
    {
      "cell_type": "code",
      "source": [],
      "metadata": {
        "id": "aiUzyeLw40Ta"
      },
      "execution_count": null,
      "outputs": []
    }
  ]
}